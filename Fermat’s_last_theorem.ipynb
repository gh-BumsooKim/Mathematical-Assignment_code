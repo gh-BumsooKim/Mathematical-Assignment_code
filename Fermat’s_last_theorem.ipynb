{
 "cells": [
  {
   "cell_type": "markdown",
   "metadata": {},
   "source": [
    "# 페르마의 마지막 정리 (Fermat’s last theorem)"
   ]
  },
  {
   "cell_type": "markdown",
   "metadata": {},
   "source": [
    ": n이 3 이상의 정수일 때, $ a^n + b^n = c^n $ 을 만족하는 양의 정수 $ a, b, c, $ 가 존재하지 않는다."
   ]
  },
  {
   "cell_type": "code",
   "execution_count": null,
   "metadata": {},
   "outputs": [],
   "source": []
  },
  {
   "cell_type": "markdown",
   "metadata": {},
   "source": [
    "### 타원곡선과의 관계"
   ]
  },
  {
   "cell_type": "markdown",
   "metadata": {},
   "source": [
    ": 페르마의 마지막 정리는 $ p>2 $ 경우에 다음과 같이 타원 곡선의 형태로 변환할 수 있다.\n",
    "\n",
    "$$ y^2 = x(x-a^D)(x+b^D) $$\n",
    "\n",
    "  변환된 타원 방정식은 모듈러 곡선으로 변환되지 못하므로 모듈러성 정리에 의해서 페르마 방정식에 정수해가 존재하지 않아 페르마의 정리가 참이라는 결론을 얻게 된다."
   ]
  },
  {
   "cell_type": "code",
   "execution_count": null,
   "metadata": {},
   "outputs": [],
   "source": []
  }
 ],
 "metadata": {
  "kernelspec": {
   "display_name": "Python 3",
   "language": "python",
   "name": "python3"
  },
  "language_info": {
   "codemirror_mode": {
    "name": "ipython",
    "version": 3
   },
   "file_extension": ".py",
   "mimetype": "text/x-python",
   "name": "python",
   "nbconvert_exporter": "python",
   "pygments_lexer": "ipython3",
   "version": "3.7.6"
  }
 },
 "nbformat": 4,
 "nbformat_minor": 4
}
