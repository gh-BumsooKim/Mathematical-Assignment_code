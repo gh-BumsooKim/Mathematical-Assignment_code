{
 "cells": [
  {
   "cell_type": "markdown",
   "metadata": {},
   "source": [
    "# modular arithmetic Test using Python Time Module"
   ]
  },
  {
   "cell_type": "markdown",
   "metadata": {},
   "source": [
    ": 이산로그 암호화 방식 - 2011을 법으로 하고 밑수가 3인 이산로그 사용"
   ]
  },
  {
   "cell_type": "markdown",
   "metadata": {},
   "source": [
    ": A's Key -> Num A = 55, B's Key -> Num B = 125"
   ]
  },
  {
   "cell_type": "markdown",
   "metadata": {},
   "source": [
    ": A와 B는 개인키를 사용하여 $ a = Mod(3^A,2011), \\, b = Mod(3^B,2011) $ 를 수행한다."
   ]
  },
  {
   "cell_type": "markdown",
   "metadata": {},
   "source": [
    "$$ if (Mod(b^A,2011) ==  Mod(a^B,2011)) $$"
   ]
  },
  {
   "cell_type": "code",
   "execution_count": 1,
   "metadata": {},
   "outputs": [],
   "source": [
    "import timeit as ti"
   ]
  },
  {
   "cell_type": "code",
   "execution_count": 2,
   "metadata": {},
   "outputs": [],
   "source": [
    "def mod(x, t):\n",
    "    answer = divmod(x,t)\n",
    "    \n",
    "    return answer[1]\n",
    "\n",
    "# modular arithmetic number = 2011\n",
    "# private numA = 55\n",
    "# private numB = 123"
   ]
  },
  {
   "cell_type": "code",
   "execution_count": 3,
   "metadata": {},
   "outputs": [],
   "source": [
    "def modular_arithmetic():\n",
    "    A0 = 3**55\n",
    "    k1 = mod(A0,2011)\n",
    "    print(\"K1 : \",k1)\n",
    "    \n",
    "    B0 = 3**123\n",
    "    k2 = mod(B0,2011)\n",
    "    print(\"K2 : \",k2)\n",
    "    \n",
    "    answer1 = mod(k1**123,2011)\n",
    "    answer2 = mod(k2**55,2011)\n",
    "    \n",
    "    if(answer1 == answer2):\n",
    "        #end_time = t.time()\n",
    "        #print(\"WorkingTime : {0:.12f} sec \". format(end_time-start_time))\n",
    "        print(\"Modular Num : \",answer1)"
   ]
  },
  {
   "cell_type": "code",
   "execution_count": 4,
   "metadata": {},
   "outputs": [
    {
     "name": "stdout",
     "output_type": "stream",
     "text": [
      "K1 :  433\n",
      "K2 :  623\n",
      "Modular Num :  8\n",
      "Modular_arithmetic function WorkingTime : 0.000219000000000413308499 sec \n"
     ]
    }
   ],
   "source": [
    "ans1 = ti.timeit('modular_arithmetic()', setup='from __main__ import modular_arithmetic', number=1)\n",
    "print(\"Modular_arithmetic function WorkingTime : {0:.24f} sec \". format(ans1))"
   ]
  },
  {
   "cell_type": "code",
   "execution_count": 5,
   "metadata": {},
   "outputs": [],
   "source": [
    "def modular_arithmetic_injection_A():\n",
    "    i = 0\n",
    "    while(1):\n",
    "        i+=1\n",
    "        numA = mod(3**i,2011)\n",
    "        if(numA == 433):\n",
    "            break\n",
    "    return numA"
   ]
  },
  {
   "cell_type": "code",
   "execution_count": 6,
   "metadata": {},
   "outputs": [],
   "source": [
    "def modular_arithmetic_injection_B():\n",
    "    i = 0\n",
    "    while(1):\n",
    "        i+=1\n",
    "        numB = mod(3**i,2011)\n",
    "        if(numB == 623):\n",
    "            break\n",
    "    return numB"
   ]
  },
  {
   "cell_type": "code",
   "execution_count": 7,
   "metadata": {},
   "outputs": [],
   "source": [
    "def modular_arithmetic_injection():\n",
    "    a = modular_arithmetic_injection_A()\n",
    "    b = modular_arithmetic_injection_B()\n",
    "    \n",
    "    temp = 3**a**b\n",
    "    return mod(temp,2011)"
   ]
  },
  {
   "cell_type": "code",
   "execution_count": null,
   "metadata": {},
   "outputs": [],
   "source": [
    "ans2 = ti.timeit('modular_arithmetic_injection()', setup='from __main__ import modular_arithmetic_injection', number=1)\n",
    "print(\"Modular_arithmetic_injection function WorkingTime : {0:.24f} sec \".format(ans))"
   ]
  },
  {
   "cell_type": "code",
   "execution_count": null,
   "metadata": {},
   "outputs": [],
   "source": [
    "print(\"EncryptionTime - DecryptionTime : {0:.24f} sec\".format(ans1-ans2))"
   ]
  },
  {
   "cell_type": "code",
   "execution_count": null,
   "metadata": {},
   "outputs": [],
   "source": [
    "print(\"EncryptionTime - DecryptionTime : {0:.24f} min\".format((ans1-ans2)/60)"
   ]
  },
  {
   "cell_type": "markdown",
   "metadata": {},
   "source": [
    ": 키와 암호 방식을 통신 중에 취득해도, 이를 **복호화하는 시간은 굉장히 오래걸린다**는 것을 알 수 있다. "
   ]
  }
 ],
 "metadata": {
  "kernelspec": {
   "display_name": "Python 3",
   "language": "python",
   "name": "python3"
  },
  "language_info": {
   "codemirror_mode": {
    "name": "ipython",
    "version": 3
   },
   "file_extension": ".py",
   "mimetype": "text/x-python",
   "name": "python",
   "nbconvert_exporter": "python",
   "pygments_lexer": "ipython3",
   "version": "3.7.6"
  }
 },
 "nbformat": 4,
 "nbformat_minor": 4
}
