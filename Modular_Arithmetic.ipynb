{
 "cells": [
  {
   "cell_type": "code",
   "execution_count": 1,
   "metadata": {},
   "outputs": [],
   "source": [
    "# modular arithmetic Test using Python Time Module"
   ]
  },
  {
   "cell_type": "code",
   "execution_count": 2,
   "metadata": {},
   "outputs": [],
   "source": [
    "#import time as t\n",
    "import timeit as ti"
   ]
  },
  {
   "cell_type": "code",
   "execution_count": 3,
   "metadata": {},
   "outputs": [],
   "source": [
    "def mod(x, t):\n",
    "    answer = divmod(x,t)\n",
    "    \n",
    "    return answer[1]\n",
    "\n",
    "# modular arithmetic number = 2011\n",
    "# private numA = 55\n",
    "# private numB = 123"
   ]
  },
  {
   "cell_type": "code",
   "execution_count": 4,
   "metadata": {},
   "outputs": [],
   "source": [
    "def modular_arithmetic():\n",
    "    A0 = 3**55\n",
    "    k1 = mod(A0,2011)\n",
    "    print(k1)\n",
    "    \n",
    "    B0 = 3**123\n",
    "    k2 = mod(B0,2011)\n",
    "    print(k2)\n",
    "    \n",
    "    # Start time\n",
    "    #start_time = t.time()\n",
    "    \n",
    "    answer1 = mod(k1**123,2011)\n",
    "    answer2 = mod(k2**55,2011)\n",
    "    \n",
    "    if(answer1 == answer2):\n",
    "        #end_time = t.time()\n",
    "        #print(\"WorkingTime : {0:.12f} sec \". format(end_time-start_time))\n",
    "        print(answer1)"
   ]
  },
  {
   "cell_type": "code",
   "execution_count": 5,
   "metadata": {},
   "outputs": [
    {
     "name": "stdout",
     "output_type": "stream",
     "text": [
      "WorkingTime : 0.000000399999999345368451 sec \n"
     ]
    }
   ],
   "source": [
    " ans = ti.timeit('modular_arithmetic', setup='from __main__ import modular_arithmetic', number=1)\n",
    "print(\"WorkingTime : {0:.24f} sec \". format(ans))"
   ]
  },
  {
   "cell_type": "code",
   "execution_count": null,
   "metadata": {},
   "outputs": [],
   "source": []
  }
 ],
 "metadata": {
  "kernelspec": {
   "display_name": "Python 3",
   "language": "python",
   "name": "python3"
  },
  "language_info": {
   "codemirror_mode": {
    "name": "ipython",
    "version": 3
   },
   "file_extension": ".py",
   "mimetype": "text/x-python",
   "name": "python",
   "nbconvert_exporter": "python",
   "pygments_lexer": "ipython3",
   "version": "3.7.6"
  }
 },
 "nbformat": 4,
 "nbformat_minor": 4
}
